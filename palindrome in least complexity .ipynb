{
 "cells": [
  {
   "cell_type": "code",
   "execution_count": 1,
   "id": "ab9ee19f",
   "metadata": {},
   "outputs": [
    {
     "name": "stdout",
     "output_type": "stream",
     "text": [
      "True\n",
      "False\n",
      "True\n",
      "False\n"
     ]
    }
   ],
   "source": [
    "def is_palindrome(number):\n",
    "    if number < 0:\n",
    "        return False\n",
    "    \n",
    "    original = number\n",
    "    reversed_num = 0\n",
    "    \n",
    "    while number > 0:\n",
    "        digit = number % 10\n",
    "        reversed_num = (reversed_num * 10) + digit\n",
    "        number //= 10\n",
    "    \n",
    "    return original == reversed_num\n",
    "\n",
    "# Example usage\n",
    "\n",
    "print(is_palindrome(12321))  # True\n",
    "print(is_palindrome(12345))  # False\n",
    "print(is_palindrome(0))      # True\n",
    "print(is_palindrome(-12321)) # False\n"
   ]
  },
  {
   "cell_type": "code",
   "execution_count": null,
   "id": "02bda1d2",
   "metadata": {},
   "outputs": [],
   "source": []
  }
 ],
 "metadata": {
  "kernelspec": {
   "display_name": "Python 3 (ipykernel)",
   "language": "python",
   "name": "python3"
  },
  "language_info": {
   "codemirror_mode": {
    "name": "ipython",
    "version": 3
   },
   "file_extension": ".py",
   "mimetype": "text/x-python",
   "name": "python",
   "nbconvert_exporter": "python",
   "pygments_lexer": "ipython3",
   "version": "3.11.5"
  }
 },
 "nbformat": 4,
 "nbformat_minor": 5
}
